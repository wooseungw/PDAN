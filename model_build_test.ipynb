{
 "cells": [
  {
   "cell_type": "code",
   "execution_count": 4,
   "id": "ff97dc10",
   "metadata": {},
   "outputs": [
    {
     "name": "stdout",
     "output_type": "stream",
     "text": [
      "SSPDAN(\n",
      "  (conv_1x1): Conv1d(512, 64, kernel_size=(1,), stride=(1,))\n",
      "  (layers): ModuleList(\n",
      "    (0-1): 2 x PDAN_Block(\n",
      "      (conv_attention): DAL(\n",
      "        (key_conv): Conv1d(64, 64, kernel_size=(1,), stride=(1,), bias=False)\n",
      "        (query_conv): Conv1d(64, 64, kernel_size=(1,), stride=(1,), bias=False)\n",
      "        (value_conv): Conv1d(64, 64, kernel_size=(1,), stride=(1,), bias=False)\n",
      "      )\n",
      "      (conv_1x1): Conv1d(64, 64, kernel_size=(1,), stride=(1,))\n",
      "      (dropout): Dropout(p=0.5, inplace=False)\n",
      "    )\n",
      "  )\n",
      "  (conv_out): Conv1d(64, 157, kernel_size=(1,), stride=(1,))\n",
      ")\n"
     ]
    }
   ],
   "source": [
    "from PDAN import PDAN, SSPDAN\n",
    "from torchsummary import summary\n",
    "import torch\n",
    "\n",
    "model = SSPDAN(\n",
    "    num_layers=2,\n",
    "    num_f_maps=64,\n",
    "    dim = 512,\n",
    "    num_classes=157,\n",
    ")\n",
    "print(model)"
   ]
  },
  {
   "cell_type": "code",
   "execution_count": null,
   "id": "f996fe04",
   "metadata": {},
   "outputs": [],
   "source": [
    "\n",
    "dummy_input = torch.randn(1, 3, 224, 224)\n",
    "summary(model, input_size=(3, 224, 224))"
   ]
  },
  {
   "cell_type": "markdown",
   "id": "d99adbbd",
   "metadata": {},
   "source": []
  }
 ],
 "metadata": {
  "kernelspec": {
   "display_name": "pdan",
   "language": "python",
   "name": "python3"
  },
  "language_info": {
   "codemirror_mode": {
    "name": "ipython",
    "version": 3
   },
   "file_extension": ".py",
   "mimetype": "text/x-python",
   "name": "python",
   "nbconvert_exporter": "python",
   "pygments_lexer": "ipython3",
   "version": "3.12.11"
  }
 },
 "nbformat": 4,
 "nbformat_minor": 5
}
