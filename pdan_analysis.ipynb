{
 "cells": [
  {
   "cell_type": "markdown",
   "id": "593204ec",
   "metadata": {},
   "source": [
    "# PDAN Model Analysis and Visualization\n",
    "\n",
    "This notebook provides interactive analysis of the trained PDAN model results."
   ]
  },
  {
   "cell_type": "code",
   "execution_count": 1,
   "id": "0a3d49a4",
   "metadata": {},
   "outputs": [
    {
     "ename": "ValueError",
     "evalue": "All ufuncs must have type `numpy.ufunc`. Received (<ufunc 'sph_legendre_p'>, <ufunc 'sph_legendre_p'>, <ufunc 'sph_legendre_p'>)",
     "output_type": "error",
     "traceback": [
      "\u001b[31m---------------------------------------------------------------------------\u001b[39m",
      "\u001b[31mValueError\u001b[39m                                Traceback (most recent call last)",
      "\u001b[36mCell\u001b[39m\u001b[36m \u001b[39m\u001b[32mIn[1]\u001b[39m\u001b[32m, line 7\u001b[39m\n\u001b[32m      5\u001b[39m \u001b[38;5;28;01mimport\u001b[39;00m\u001b[38;5;250m \u001b[39m\u001b[34;01mpandas\u001b[39;00m\u001b[38;5;250m \u001b[39m\u001b[38;5;28;01mas\u001b[39;00m\u001b[38;5;250m \u001b[39m\u001b[34;01mpd\u001b[39;00m\n\u001b[32m      6\u001b[39m \u001b[38;5;28;01mimport\u001b[39;00m\u001b[38;5;250m \u001b[39m\u001b[34;01mmatplotlib\u001b[39;00m\u001b[34;01m.\u001b[39;00m\u001b[34;01mpyplot\u001b[39;00m\u001b[38;5;250m \u001b[39m\u001b[38;5;28;01mas\u001b[39;00m\u001b[38;5;250m \u001b[39m\u001b[34;01mplt\u001b[39;00m\n\u001b[32m----> \u001b[39m\u001b[32m7\u001b[39m \u001b[38;5;28;01mimport\u001b[39;00m\u001b[38;5;250m \u001b[39m\u001b[34;01mseaborn\u001b[39;00m\u001b[38;5;250m \u001b[39m\u001b[38;5;28;01mas\u001b[39;00m\u001b[38;5;250m \u001b[39m\u001b[34;01msns\u001b[39;00m\n\u001b[32m      8\u001b[39m \u001b[38;5;28;01mfrom\u001b[39;00m\u001b[38;5;250m \u001b[39m\u001b[34;01mpathlib\u001b[39;00m\u001b[38;5;250m \u001b[39m\u001b[38;5;28;01mimport\u001b[39;00m Path\n\u001b[32m     10\u001b[39m \u001b[38;5;28;01mimport\u001b[39;00m\u001b[38;5;250m \u001b[39m\u001b[34;01mtorch\u001b[39;00m\n",
      "\u001b[36mFile \u001b[39m\u001b[32m/data/3_lib/miniconda3/envs/pdan/lib/python3.12/site-packages/seaborn/__init__.py:5\u001b[39m\n\u001b[32m      3\u001b[39m \u001b[38;5;28;01mfrom\u001b[39;00m\u001b[38;5;250m \u001b[39m\u001b[34;01m.\u001b[39;00m\u001b[34;01mutils\u001b[39;00m\u001b[38;5;250m \u001b[39m\u001b[38;5;28;01mimport\u001b[39;00m *  \u001b[38;5;66;03m# noqa: F401,F403\u001b[39;00m\n\u001b[32m      4\u001b[39m \u001b[38;5;28;01mfrom\u001b[39;00m\u001b[38;5;250m \u001b[39m\u001b[34;01m.\u001b[39;00m\u001b[34;01mpalettes\u001b[39;00m\u001b[38;5;250m \u001b[39m\u001b[38;5;28;01mimport\u001b[39;00m *  \u001b[38;5;66;03m# noqa: F401,F403\u001b[39;00m\n\u001b[32m----> \u001b[39m\u001b[32m5\u001b[39m \u001b[38;5;28;01mfrom\u001b[39;00m\u001b[38;5;250m \u001b[39m\u001b[34;01m.\u001b[39;00m\u001b[34;01mrelational\u001b[39;00m\u001b[38;5;250m \u001b[39m\u001b[38;5;28;01mimport\u001b[39;00m *  \u001b[38;5;66;03m# noqa: F401,F403\u001b[39;00m\n\u001b[32m      6\u001b[39m \u001b[38;5;28;01mfrom\u001b[39;00m\u001b[38;5;250m \u001b[39m\u001b[34;01m.\u001b[39;00m\u001b[34;01mregression\u001b[39;00m\u001b[38;5;250m \u001b[39m\u001b[38;5;28;01mimport\u001b[39;00m *  \u001b[38;5;66;03m# noqa: F401,F403\u001b[39;00m\n\u001b[32m      7\u001b[39m \u001b[38;5;28;01mfrom\u001b[39;00m\u001b[38;5;250m \u001b[39m\u001b[34;01m.\u001b[39;00m\u001b[34;01mcategorical\u001b[39;00m\u001b[38;5;250m \u001b[39m\u001b[38;5;28;01mimport\u001b[39;00m *  \u001b[38;5;66;03m# noqa: F401,F403\u001b[39;00m\n",
      "\u001b[36mFile \u001b[39m\u001b[32m/data/3_lib/miniconda3/envs/pdan/lib/python3.12/site-packages/seaborn/relational.py:21\u001b[39m\n\u001b[32m     13\u001b[39m \u001b[38;5;28;01mfrom\u001b[39;00m\u001b[38;5;250m \u001b[39m\u001b[34;01m.\u001b[39;00m\u001b[34;01mutils\u001b[39;00m\u001b[38;5;250m \u001b[39m\u001b[38;5;28;01mimport\u001b[39;00m (\n\u001b[32m     14\u001b[39m     adjust_legend_subtitles,\n\u001b[32m     15\u001b[39m     _default_color,\n\u001b[32m   (...)\u001b[39m\u001b[32m     18\u001b[39m     _scatter_legend_artist,\n\u001b[32m     19\u001b[39m )\n\u001b[32m     20\u001b[39m \u001b[38;5;28;01mfrom\u001b[39;00m\u001b[38;5;250m \u001b[39m\u001b[34;01m.\u001b[39;00m\u001b[34;01m_compat\u001b[39;00m\u001b[38;5;250m \u001b[39m\u001b[38;5;28;01mimport\u001b[39;00m groupby_apply_include_groups\n\u001b[32m---> \u001b[39m\u001b[32m21\u001b[39m \u001b[38;5;28;01mfrom\u001b[39;00m\u001b[38;5;250m \u001b[39m\u001b[34;01m.\u001b[39;00m\u001b[34;01m_statistics\u001b[39;00m\u001b[38;5;250m \u001b[39m\u001b[38;5;28;01mimport\u001b[39;00m EstimateAggregator, WeightedAggregator\n\u001b[32m     22\u001b[39m \u001b[38;5;28;01mfrom\u001b[39;00m\u001b[38;5;250m \u001b[39m\u001b[34;01m.\u001b[39;00m\u001b[34;01maxisgrid\u001b[39;00m\u001b[38;5;250m \u001b[39m\u001b[38;5;28;01mimport\u001b[39;00m FacetGrid, _facet_docs\n\u001b[32m     23\u001b[39m \u001b[38;5;28;01mfrom\u001b[39;00m\u001b[38;5;250m \u001b[39m\u001b[34;01m.\u001b[39;00m\u001b[34;01m_docstrings\u001b[39;00m\u001b[38;5;250m \u001b[39m\u001b[38;5;28;01mimport\u001b[39;00m DocstringComponents, _core_docs\n",
      "\u001b[36mFile \u001b[39m\u001b[32m/data/3_lib/miniconda3/envs/pdan/lib/python3.12/site-packages/seaborn/_statistics.py:32\u001b[39m\n\u001b[32m     30\u001b[39m \u001b[38;5;28;01mimport\u001b[39;00m\u001b[38;5;250m \u001b[39m\u001b[34;01mpandas\u001b[39;00m\u001b[38;5;250m \u001b[39m\u001b[38;5;28;01mas\u001b[39;00m\u001b[38;5;250m \u001b[39m\u001b[34;01mpd\u001b[39;00m\n\u001b[32m     31\u001b[39m \u001b[38;5;28;01mtry\u001b[39;00m:\n\u001b[32m---> \u001b[39m\u001b[32m32\u001b[39m     \u001b[38;5;28;01mfrom\u001b[39;00m\u001b[38;5;250m \u001b[39m\u001b[34;01mscipy\u001b[39;00m\u001b[34;01m.\u001b[39;00m\u001b[34;01mstats\u001b[39;00m\u001b[38;5;250m \u001b[39m\u001b[38;5;28;01mimport\u001b[39;00m gaussian_kde\n\u001b[32m     33\u001b[39m     _no_scipy = \u001b[38;5;28;01mFalse\u001b[39;00m\n\u001b[32m     34\u001b[39m \u001b[38;5;28;01mexcept\u001b[39;00m \u001b[38;5;167;01mImportError\u001b[39;00m:\n",
      "\u001b[36mFile \u001b[39m\u001b[32m/data/3_lib/miniconda3/envs/pdan/lib/python3.12/site-packages/scipy/stats/__init__.py:626\u001b[39m\n\u001b[32m      1\u001b[39m \u001b[33;03m\"\"\"\u001b[39;00m\n\u001b[32m      2\u001b[39m \u001b[33;03m.. _statsrefmanual:\u001b[39;00m\n\u001b[32m      3\u001b[39m \n\u001b[32m   (...)\u001b[39m\u001b[32m    621\u001b[39m \n\u001b[32m    622\u001b[39m \u001b[33;03m\"\"\"\u001b[39;00m  \u001b[38;5;66;03m# noqa: E501\u001b[39;00m\n\u001b[32m    624\u001b[39m \u001b[38;5;28;01mfrom\u001b[39;00m\u001b[38;5;250m \u001b[39m\u001b[34;01m.\u001b[39;00m\u001b[34;01m_warnings_errors\u001b[39;00m\u001b[38;5;250m \u001b[39m\u001b[38;5;28;01mimport\u001b[39;00m (ConstantInputWarning, NearConstantInputWarning,\n\u001b[32m    625\u001b[39m                                DegenerateDataWarning, FitError)\n\u001b[32m--> \u001b[39m\u001b[32m626\u001b[39m \u001b[38;5;28;01mfrom\u001b[39;00m\u001b[38;5;250m \u001b[39m\u001b[34;01m.\u001b[39;00m\u001b[34;01m_stats_py\u001b[39;00m\u001b[38;5;250m \u001b[39m\u001b[38;5;28;01mimport\u001b[39;00m *\n\u001b[32m    627\u001b[39m \u001b[38;5;28;01mfrom\u001b[39;00m\u001b[38;5;250m \u001b[39m\u001b[34;01m.\u001b[39;00m\u001b[34;01m_variation\u001b[39;00m\u001b[38;5;250m \u001b[39m\u001b[38;5;28;01mimport\u001b[39;00m variation\n\u001b[32m    628\u001b[39m \u001b[38;5;28;01mfrom\u001b[39;00m\u001b[38;5;250m \u001b[39m\u001b[34;01m.\u001b[39;00m\u001b[34;01mdistributions\u001b[39;00m\u001b[38;5;250m \u001b[39m\u001b[38;5;28;01mimport\u001b[39;00m *\n",
      "\u001b[36mFile \u001b[39m\u001b[32m/data/3_lib/miniconda3/envs/pdan/lib/python3.12/site-packages/scipy/stats/_stats_py.py:40\u001b[39m\n\u001b[32m     37\u001b[39m \u001b[38;5;28;01mfrom\u001b[39;00m\u001b[38;5;250m \u001b[39m\u001b[34;01mnumpy\u001b[39;00m\u001b[38;5;250m \u001b[39m\u001b[38;5;28;01mimport\u001b[39;00m array, asarray, ma\n\u001b[32m     39\u001b[39m \u001b[38;5;28;01mfrom\u001b[39;00m\u001b[38;5;250m \u001b[39m\u001b[34;01mscipy\u001b[39;00m\u001b[38;5;250m \u001b[39m\u001b[38;5;28;01mimport\u001b[39;00m sparse\n\u001b[32m---> \u001b[39m\u001b[32m40\u001b[39m \u001b[38;5;28;01mfrom\u001b[39;00m\u001b[38;5;250m \u001b[39m\u001b[34;01mscipy\u001b[39;00m\u001b[34;01m.\u001b[39;00m\u001b[34;01mspatial\u001b[39;00m\u001b[38;5;250m \u001b[39m\u001b[38;5;28;01mimport\u001b[39;00m distance_matrix\n\u001b[32m     42\u001b[39m \u001b[38;5;28;01mfrom\u001b[39;00m\u001b[38;5;250m \u001b[39m\u001b[34;01mscipy\u001b[39;00m\u001b[34;01m.\u001b[39;00m\u001b[34;01moptimize\u001b[39;00m\u001b[38;5;250m \u001b[39m\u001b[38;5;28;01mimport\u001b[39;00m milp, LinearConstraint\n\u001b[32m     43\u001b[39m \u001b[38;5;28;01mfrom\u001b[39;00m\u001b[38;5;250m \u001b[39m\u001b[34;01mscipy\u001b[39;00m\u001b[34;01m.\u001b[39;00m\u001b[34;01m_lib\u001b[39;00m\u001b[34;01m.\u001b[39;00m\u001b[34;01m_util\u001b[39;00m\u001b[38;5;250m \u001b[39m\u001b[38;5;28;01mimport\u001b[39;00m (check_random_state, _get_nan,\n\u001b[32m     44\u001b[39m                               _rename_parameter, _contains_nan,\n\u001b[32m     45\u001b[39m                               normalize_axis_index, np_vecdot, AxisError)\n",
      "\u001b[36mFile \u001b[39m\u001b[32m/data/3_lib/miniconda3/envs/pdan/lib/python3.12/site-packages/scipy/spatial/__init__.py:116\u001b[39m\n\u001b[32m    114\u001b[39m \u001b[38;5;28;01mfrom\u001b[39;00m\u001b[38;5;250m \u001b[39m\u001b[34;01m.\u001b[39;00m\u001b[34;01m_plotutils\u001b[39;00m\u001b[38;5;250m \u001b[39m\u001b[38;5;28;01mimport\u001b[39;00m *\n\u001b[32m    115\u001b[39m \u001b[38;5;28;01mfrom\u001b[39;00m\u001b[38;5;250m \u001b[39m\u001b[34;01m.\u001b[39;00m\u001b[34;01m_procrustes\u001b[39;00m\u001b[38;5;250m \u001b[39m\u001b[38;5;28;01mimport\u001b[39;00m procrustes\n\u001b[32m--> \u001b[39m\u001b[32m116\u001b[39m \u001b[38;5;28;01mfrom\u001b[39;00m\u001b[38;5;250m \u001b[39m\u001b[34;01m.\u001b[39;00m\u001b[34;01m_geometric_slerp\u001b[39;00m\u001b[38;5;250m \u001b[39m\u001b[38;5;28;01mimport\u001b[39;00m geometric_slerp\n\u001b[32m    118\u001b[39m \u001b[38;5;66;03m# Deprecated namespaces, to be removed in v2.0.0\u001b[39;00m\n\u001b[32m    119\u001b[39m \u001b[38;5;28;01mfrom\u001b[39;00m\u001b[38;5;250m \u001b[39m\u001b[34;01m.\u001b[39;00m\u001b[38;5;250m \u001b[39m\u001b[38;5;28;01mimport\u001b[39;00m ckdtree, kdtree, qhull\n",
      "\u001b[36mFile \u001b[39m\u001b[32m/data/3_lib/miniconda3/envs/pdan/lib/python3.12/site-packages/scipy/spatial/_geometric_slerp.py:7\u001b[39m\n\u001b[32m      4\u001b[39m \u001b[38;5;28;01mfrom\u001b[39;00m\u001b[38;5;250m \u001b[39m\u001b[34;01mtyping\u001b[39;00m\u001b[38;5;250m \u001b[39m\u001b[38;5;28;01mimport\u001b[39;00m TYPE_CHECKING\n\u001b[32m      6\u001b[39m \u001b[38;5;28;01mimport\u001b[39;00m\u001b[38;5;250m \u001b[39m\u001b[34;01mnumpy\u001b[39;00m\u001b[38;5;250m \u001b[39m\u001b[38;5;28;01mas\u001b[39;00m\u001b[38;5;250m \u001b[39m\u001b[34;01mnp\u001b[39;00m\n\u001b[32m----> \u001b[39m\u001b[32m7\u001b[39m \u001b[38;5;28;01mfrom\u001b[39;00m\u001b[38;5;250m \u001b[39m\u001b[34;01mscipy\u001b[39;00m\u001b[34;01m.\u001b[39;00m\u001b[34;01mspatial\u001b[39;00m\u001b[34;01m.\u001b[39;00m\u001b[34;01mdistance\u001b[39;00m\u001b[38;5;250m \u001b[39m\u001b[38;5;28;01mimport\u001b[39;00m euclidean\n\u001b[32m      9\u001b[39m \u001b[38;5;28;01mif\u001b[39;00m TYPE_CHECKING:\n\u001b[32m     10\u001b[39m     \u001b[38;5;28;01mimport\u001b[39;00m\u001b[38;5;250m \u001b[39m\u001b[34;01mnumpy\u001b[39;00m\u001b[34;01m.\u001b[39;00m\u001b[34;01mtyping\u001b[39;00m\u001b[38;5;250m \u001b[39m\u001b[38;5;28;01mas\u001b[39;00m\u001b[38;5;250m \u001b[39m\u001b[34;01mnpt\u001b[39;00m\n",
      "\u001b[36mFile \u001b[39m\u001b[32m/data/3_lib/miniconda3/envs/pdan/lib/python3.12/site-packages/scipy/spatial/distance.py:121\u001b[39m\n\u001b[32m    119\u001b[39m \u001b[38;5;28;01mfrom\u001b[39;00m\u001b[38;5;250m \u001b[39m\u001b[34;01mscipy\u001b[39;00m\u001b[34;01m.\u001b[39;00m\u001b[34;01m_lib\u001b[39;00m\u001b[34;01m.\u001b[39;00m\u001b[34;01mdeprecation\u001b[39;00m\u001b[38;5;250m \u001b[39m\u001b[38;5;28;01mimport\u001b[39;00m _deprecated\n\u001b[32m    120\u001b[39m \u001b[38;5;28;01mfrom\u001b[39;00m\u001b[38;5;250m \u001b[39m\u001b[34;01mscipy\u001b[39;00m\u001b[34;01m.\u001b[39;00m\u001b[34;01mlinalg\u001b[39;00m\u001b[38;5;250m \u001b[39m\u001b[38;5;28;01mimport\u001b[39;00m norm\n\u001b[32m--> \u001b[39m\u001b[32m121\u001b[39m \u001b[38;5;28;01mfrom\u001b[39;00m\u001b[38;5;250m \u001b[39m\u001b[34;01mscipy\u001b[39;00m\u001b[34;01m.\u001b[39;00m\u001b[34;01mspecial\u001b[39;00m\u001b[38;5;250m \u001b[39m\u001b[38;5;28;01mimport\u001b[39;00m rel_entr\n\u001b[32m    122\u001b[39m \u001b[38;5;28;01mfrom\u001b[39;00m\u001b[38;5;250m \u001b[39m\u001b[34;01m.\u001b[39;00m\u001b[38;5;250m \u001b[39m\u001b[38;5;28;01mimport\u001b[39;00m _hausdorff, _distance_pybind, _distance_wrap\n\u001b[32m    125\u001b[39m \u001b[38;5;28;01mdef\u001b[39;00m\u001b[38;5;250m \u001b[39m\u001b[34m_copy_array_if_base_present\u001b[39m(a):\n",
      "\u001b[36mFile \u001b[39m\u001b[32m/data/3_lib/miniconda3/envs/pdan/lib/python3.12/site-packages/scipy/special/__init__.py:790\u001b[39m\n\u001b[32m    787\u001b[39m \u001b[38;5;66;03m# Replace some function definitions from _ufuncs to add Array API support\u001b[39;00m\n\u001b[32m    788\u001b[39m \u001b[38;5;28;01mfrom\u001b[39;00m\u001b[38;5;250m \u001b[39m\u001b[34;01m.\u001b[39;00m\u001b[34;01m_support_alternative_backends\u001b[39;00m\u001b[38;5;250m \u001b[39m\u001b[38;5;28;01mimport\u001b[39;00m *\n\u001b[32m--> \u001b[39m\u001b[32m790\u001b[39m \u001b[38;5;28;01mfrom\u001b[39;00m\u001b[38;5;250m \u001b[39m\u001b[34;01m.\u001b[39;00m\u001b[38;5;250m \u001b[39m\u001b[38;5;28;01mimport\u001b[39;00m _basic\n\u001b[32m    791\u001b[39m \u001b[38;5;28;01mfrom\u001b[39;00m\u001b[38;5;250m \u001b[39m\u001b[34;01m.\u001b[39;00m\u001b[34;01m_basic\u001b[39;00m\u001b[38;5;250m \u001b[39m\u001b[38;5;28;01mimport\u001b[39;00m *\n\u001b[32m    793\u001b[39m \u001b[38;5;28;01mfrom\u001b[39;00m\u001b[38;5;250m \u001b[39m\u001b[34;01m.\u001b[39;00m\u001b[34;01m_logsumexp\u001b[39;00m\u001b[38;5;250m \u001b[39m\u001b[38;5;28;01mimport\u001b[39;00m logsumexp, softmax, log_softmax\n",
      "\u001b[36mFile \u001b[39m\u001b[32m/data/3_lib/miniconda3/envs/pdan/lib/python3.12/site-packages/scipy/special/_basic.py:22\u001b[39m\n\u001b[32m     20\u001b[39m \u001b[38;5;28;01mfrom\u001b[39;00m\u001b[38;5;250m \u001b[39m\u001b[34;01m.\u001b[39;00m\u001b[38;5;250m \u001b[39m\u001b[38;5;28;01mimport\u001b[39;00m _specfun\n\u001b[32m     21\u001b[39m \u001b[38;5;28;01mfrom\u001b[39;00m\u001b[38;5;250m \u001b[39m\u001b[34;01m.\u001b[39;00m\u001b[34;01m_comb\u001b[39;00m\u001b[38;5;250m \u001b[39m\u001b[38;5;28;01mimport\u001b[39;00m _comb_int\n\u001b[32m---> \u001b[39m\u001b[32m22\u001b[39m \u001b[38;5;28;01mfrom\u001b[39;00m\u001b[38;5;250m \u001b[39m\u001b[34;01m.\u001b[39;00m\u001b[34;01m_multiufuncs\u001b[39;00m\u001b[38;5;250m \u001b[39m\u001b[38;5;28;01mimport\u001b[39;00m (assoc_legendre_p_all,\n\u001b[32m     23\u001b[39m                            legendre_p_all)\n\u001b[32m     24\u001b[39m \u001b[38;5;28;01mfrom\u001b[39;00m\u001b[38;5;250m \u001b[39m\u001b[34;01mscipy\u001b[39;00m\u001b[34;01m.\u001b[39;00m\u001b[34;01m_lib\u001b[39;00m\u001b[34;01m.\u001b[39;00m\u001b[34;01mdeprecation\u001b[39;00m\u001b[38;5;250m \u001b[39m\u001b[38;5;28;01mimport\u001b[39;00m _deprecated\n\u001b[32m     27\u001b[39m __all__ = [\n\u001b[32m     28\u001b[39m     \u001b[33m'\u001b[39m\u001b[33mai_zeros\u001b[39m\u001b[33m'\u001b[39m,\n\u001b[32m     29\u001b[39m     \u001b[33m'\u001b[39m\u001b[33massoc_laguerre\u001b[39m\u001b[33m'\u001b[39m,\n\u001b[32m   (...)\u001b[39m\u001b[32m     87\u001b[39m     \u001b[33m'\u001b[39m\u001b[33mzeta\u001b[39m\u001b[33m'\u001b[39m\n\u001b[32m     88\u001b[39m ]\n",
      "\u001b[36mFile \u001b[39m\u001b[32m/data/3_lib/miniconda3/envs/pdan/lib/python3.12/site-packages/scipy/special/_multiufuncs.py:142\u001b[39m\n\u001b[32m    137\u001b[39m             out = \u001b[38;5;28mself\u001b[39m._finalize_out(out)\n\u001b[32m    139\u001b[39m         \u001b[38;5;28;01mreturn\u001b[39;00m out\n\u001b[32m--> \u001b[39m\u001b[32m142\u001b[39m sph_legendre_p = \u001b[43mMultiUFunc\u001b[49m\u001b[43m(\u001b[49m\n\u001b[32m    143\u001b[39m \u001b[43m    \u001b[49m\u001b[43msph_legendre_p\u001b[49m\u001b[43m,\u001b[49m\n\u001b[32m    144\u001b[39m \u001b[38;5;250;43m    \u001b[39;49m\u001b[33;43mr\u001b[39;49m\u001b[33;43;03m\"\"\"sph_legendre_p(n, m, theta, *, diff_n=0)\u001b[39;49;00m\n\u001b[32m    145\u001b[39m \n\u001b[32m    146\u001b[39m \u001b[33;43;03m    Spherical Legendre polynomial of the first kind.\u001b[39;49;00m\n\u001b[32m    147\u001b[39m \n\u001b[32m    148\u001b[39m \u001b[33;43;03m    Parameters\u001b[39;49;00m\n\u001b[32m    149\u001b[39m \u001b[33;43;03m    ----------\u001b[39;49;00m\n\u001b[32m    150\u001b[39m \u001b[33;43;03m    n : ArrayLike[int]\u001b[39;49;00m\n\u001b[32m    151\u001b[39m \u001b[33;43;03m        Degree of the spherical Legendre polynomial. Must have ``n >= 0``.\u001b[39;49;00m\n\u001b[32m    152\u001b[39m \u001b[33;43;03m    m : ArrayLike[int]\u001b[39;49;00m\n\u001b[32m    153\u001b[39m \u001b[33;43;03m        Order of the spherical Legendre polynomial.\u001b[39;49;00m\n\u001b[32m    154\u001b[39m \u001b[33;43;03m    theta : ArrayLike[float]\u001b[39;49;00m\n\u001b[32m    155\u001b[39m \u001b[33;43;03m        Input value.\u001b[39;49;00m\n\u001b[32m    156\u001b[39m \u001b[33;43;03m    diff_n : Optional[int]\u001b[39;49;00m\n\u001b[32m    157\u001b[39m \u001b[33;43;03m        A non-negative integer. Compute and return all derivatives up\u001b[39;49;00m\n\u001b[32m    158\u001b[39m \u001b[33;43;03m        to order ``diff_n``. Default is 0.\u001b[39;49;00m\n\u001b[32m    159\u001b[39m \n\u001b[32m    160\u001b[39m \u001b[33;43;03m    Returns\u001b[39;49;00m\n\u001b[32m    161\u001b[39m \u001b[33;43;03m    -------\u001b[39;49;00m\n\u001b[32m    162\u001b[39m \u001b[33;43;03m    p : ndarray or tuple[ndarray]\u001b[39;49;00m\n\u001b[32m    163\u001b[39m \u001b[33;43;03m        Spherical Legendre polynomial with ``diff_n`` derivatives.\u001b[39;49;00m\n\u001b[32m    164\u001b[39m \n\u001b[32m    165\u001b[39m \u001b[33;43;03m    Notes\u001b[39;49;00m\n\u001b[32m    166\u001b[39m \u001b[33;43;03m    -----\u001b[39;49;00m\n\u001b[32m    167\u001b[39m \u001b[33;43;03m    The spherical counterpart of an (unnormalized) associated Legendre polynomial has\u001b[39;49;00m\n\u001b[32m    168\u001b[39m \u001b[33;43;03m    the additional factor\u001b[39;49;00m\n\u001b[32m    169\u001b[39m \n\u001b[32m    170\u001b[39m \u001b[33;43;03m    .. math::\u001b[39;49;00m\n\u001b[32m    171\u001b[39m \n\u001b[32m    172\u001b[39m \u001b[33;43;03m        \\sqrt{\\frac{(2 n + 1) (n - m)!}{4 \\pi (n + m)!}}\u001b[39;49;00m\n\u001b[32m    173\u001b[39m \n\u001b[32m    174\u001b[39m \u001b[33;43;03m    It is the same as the spherical harmonic :math:`Y_{n}^{m}(\\theta, \\phi)`\u001b[39;49;00m\n\u001b[32m    175\u001b[39m \u001b[33;43;03m    with :math:`\\phi = 0`.\u001b[39;49;00m\n\u001b[32m    176\u001b[39m \u001b[33;43;03m    \"\"\"\u001b[39;49;00m\u001b[43m,\u001b[49m\u001b[43m \u001b[49m\u001b[43mdiff_n\u001b[49m\u001b[43m=\u001b[49m\u001b[32;43m0\u001b[39;49m\n\u001b[32m    177\u001b[39m \u001b[43m)\u001b[49m\n\u001b[32m    180\u001b[39m \u001b[38;5;129m@sph_legendre_p\u001b[39m._override_key\n\u001b[32m    181\u001b[39m \u001b[38;5;28;01mdef\u001b[39;00m\u001b[38;5;250m \u001b[39m\u001b[34m_\u001b[39m(diff_n):\n\u001b[32m    182\u001b[39m     diff_n = _nonneg_int_or_fail(diff_n, \u001b[33m\"\u001b[39m\u001b[33mdiff_n\u001b[39m\u001b[33m\"\u001b[39m, strict=\u001b[38;5;28;01mFalse\u001b[39;00m)\n",
      "\u001b[36mFile \u001b[39m\u001b[32m/data/3_lib/miniconda3/envs/pdan/lib/python3.12/site-packages/scipy/special/_multiufuncs.py:41\u001b[39m, in \u001b[36mMultiUFunc.__init__\u001b[39m\u001b[34m(self, ufunc_or_ufuncs, doc, force_complex_output, **default_kwargs)\u001b[39m\n\u001b[32m     39\u001b[39m \u001b[38;5;28;01mfor\u001b[39;00m ufunc \u001b[38;5;129;01min\u001b[39;00m ufuncs_iter:\n\u001b[32m     40\u001b[39m     \u001b[38;5;28;01mif\u001b[39;00m \u001b[38;5;129;01mnot\u001b[39;00m \u001b[38;5;28misinstance\u001b[39m(ufunc, np.ufunc):\n\u001b[32m---> \u001b[39m\u001b[32m41\u001b[39m         \u001b[38;5;28;01mraise\u001b[39;00m \u001b[38;5;167;01mValueError\u001b[39;00m(\u001b[33m\"\u001b[39m\u001b[33mAll ufuncs must have type `numpy.ufunc`.\u001b[39m\u001b[33m\"\u001b[39m\n\u001b[32m     42\u001b[39m                          \u001b[33mf\u001b[39m\u001b[33m\"\u001b[39m\u001b[33m Received \u001b[39m\u001b[38;5;132;01m{\u001b[39;00mufunc_or_ufuncs\u001b[38;5;132;01m}\u001b[39;00m\u001b[33m\"\u001b[39m)\n\u001b[32m     43\u001b[39m     seen_input_types.add(\u001b[38;5;28mfrozenset\u001b[39m(x.split(\u001b[33m\"\u001b[39m\u001b[33m->\u001b[39m\u001b[33m\"\u001b[39m)[\u001b[32m0\u001b[39m] \u001b[38;5;28;01mfor\u001b[39;00m x \u001b[38;5;129;01min\u001b[39;00m ufunc.types))\n\u001b[32m     44\u001b[39m \u001b[38;5;28;01mif\u001b[39;00m \u001b[38;5;28mlen\u001b[39m(seen_input_types) > \u001b[32m1\u001b[39m:\n",
      "\u001b[31mValueError\u001b[39m: All ufuncs must have type `numpy.ufunc`. Received (<ufunc 'sph_legendre_p'>, <ufunc 'sph_legendre_p'>, <ufunc 'sph_legendre_p'>)"
     ]
    }
   ],
   "source": [
    "import os\n",
    "import sys\n",
    "import json\n",
    "import numpy as np\n",
    "import pandas as pd\n",
    "import matplotlib.pyplot as plt\n",
    "import seaborn as sns\n",
    "from pathlib import Path\n",
    "\n",
    "import torch\n",
    "import torch.nn.functional as F\n",
    "from train_pdan_lightning import PDANLightningModule\n",
    "from evaluate_pdan import PDANEvaluator\n",
    "\n",
    "# Set style\n",
    "plt.style.use('seaborn-v0_8')\n",
    "sns.set_palette(\"husl\")\n",
    "\n",
    "%matplotlib inline"
   ]
  },
  {
   "cell_type": "markdown",
   "id": "23f8df78",
   "metadata": {},
   "source": [
    "## 1. Load Model and Data"
   ]
  },
  {
   "cell_type": "code",
   "execution_count": null,
   "id": "7a7190fd",
   "metadata": {},
   "outputs": [],
   "source": [
    "# Configuration\n",
    "checkpoint_path = \"./lightning_logs/checkpoints/pdan-epoch=39-val_map=10.39.ckpt\"\n",
    "data_root = \"/data/1_personal/4_SWWOO/actiondetect/PDAN/data\"\n",
    "split_file = \"/data/1_personal/4_SWWOO/actiondetect/PDAN/data/charades.json\"\n",
    "\n",
    "# Load evaluator\n",
    "evaluator = PDANEvaluator(\n",
    "    checkpoint_path=checkpoint_path,\n",
    "    data_root=data_root,\n",
    "    split_file=split_file,\n",
    "    device='cuda' if torch.cuda.is_available() else 'cpu'\n",
    ")\n",
    "\n",
    "print(f\"Model loaded successfully!\")\n",
    "print(f\"Dataset: {len(evaluator.dataset)} samples\")"
   ]
  },
  {
   "cell_type": "markdown",
   "id": "82693f29",
   "metadata": {},
   "source": [
    "## 2. Run Evaluation"
   ]
  },
  {
   "cell_type": "code",
   "execution_count": null,
   "id": "259615ff",
   "metadata": {},
   "outputs": [],
   "source": [
    "# Run evaluation\n",
    "results = evaluator.evaluate_model()\n",
    "\n",
    "print(f\"\\nEvaluation Results:\")\n",
    "print(f\"Mean Average Precision (mAP): {results['mean_ap']:.2f}%\")\n",
    "print(f\"Number of videos: {len(results['video_ids'])}\")\n",
    "print(f\"Number of action classes: {len(results['ap_scores'])}\")"
   ]
  },
  {
   "cell_type": "markdown",
   "id": "42e0b3cd",
   "metadata": {},
   "source": [
    "## 3. Detailed Analysis"
   ]
  },
  {
   "cell_type": "code",
   "execution_count": null,
   "id": "e824c559",
   "metadata": {},
   "outputs": [],
   "source": [
    "# AP scores analysis\n",
    "ap_scores = results['ap_scores'] * 100\n",
    "\n",
    "print(\"AP Score Statistics:\")\n",
    "print(f\"Mean: {np.mean(ap_scores):.2f}%\")\n",
    "print(f\"Std: {np.std(ap_scores):.2f}%\")\n",
    "print(f\"Min: {np.min(ap_scores):.2f}%\")\n",
    "print(f\"Max: {np.max(ap_scores):.2f}%\")\n",
    "print(f\"Median: {np.median(ap_scores):.2f}%\")\n",
    "\n",
    "# Show top and bottom performing classes\n",
    "top_classes = np.argsort(ap_scores)[-10:]\n",
    "bottom_classes = np.argsort(ap_scores)[:10]\n",
    "\n",
    "print(\"\\nTop 10 performing classes:\")\n",
    "for i, class_idx in enumerate(reversed(top_classes)):\n",
    "    print(f\"{i+1:2d}. Class {class_idx:3d}: {ap_scores[class_idx]:5.2f}%\")\n",
    "\n",
    "print(\"\\nBottom 10 performing classes:\")\n",
    "for i, class_idx in enumerate(bottom_classes):\n",
    "    print(f\"{i+1:2d}. Class {class_idx:3d}: {ap_scores[class_idx]:5.2f}%\")"
   ]
  },
  {
   "cell_type": "markdown",
   "id": "62f45de3",
   "metadata": {},
   "source": [
    "## 4. Interactive Visualizations"
   ]
  },
  {
   "cell_type": "code",
   "execution_count": null,
   "id": "a9696a5d",
   "metadata": {},
   "outputs": [],
   "source": [
    "# Plot AP distribution\n",
    "fig, (ax1, ax2) = plt.subplots(1, 2, figsize=(15, 6))\n",
    "\n",
    "# Histogram\n",
    "ax1.hist(ap_scores, bins=20, alpha=0.7, color='skyblue', edgecolor='black')\n",
    "ax1.axvline(x=np.mean(ap_scores), color='red', linestyle='--', \n",
    "           label=f'Mean: {np.mean(ap_scores):.1f}%')\n",
    "ax1.set_title('Distribution of AP Scores')\n",
    "ax1.set_xlabel('Average Precision (%)')\n",
    "ax1.set_ylabel('Number of Classes')\n",
    "ax1.legend()\n",
    "ax1.grid(True, alpha=0.3)\n",
    "\n",
    "# Box plot\n",
    "ax2.boxplot(ap_scores, vert=True)\n",
    "ax2.set_title('AP Score Distribution (Box Plot)')\n",
    "ax2.set_ylabel('Average Precision (%)')\n",
    "ax2.grid(True, alpha=0.3)\n",
    "\n",
    "plt.tight_layout()\n",
    "plt.show()"
   ]
  },
  {
   "cell_type": "code",
   "execution_count": null,
   "id": "1a6350c4",
   "metadata": {},
   "outputs": [],
   "source": [
    "# Per-video analysis\n",
    "video_data = []\n",
    "for video_id, result in results['results_per_video'].items():\n",
    "    preds = result['predictions']\n",
    "    labels = result['labels']\n",
    "    \n",
    "    video_data.append({\n",
    "        'video_id': video_id,\n",
    "        'duration': result['duration'],\n",
    "        'fps': result['fps'],\n",
    "        'num_frames': preds.shape[0],\n",
    "        'mean_prediction': np.mean(preds),\n",
    "        'max_prediction': np.max(preds),\n",
    "        'num_active_classes': np.sum(np.max(preds, axis=0) > 0.1),\n",
    "        'num_gt_actions': np.sum(labels > 0.5)\n",
    "    })\n",
    "\n",
    "video_df = pd.DataFrame(video_data)\n",
    "\n",
    "# Video statistics\n",
    "print(\"Video Dataset Statistics:\")\n",
    "print(video_df.describe())"
   ]
  },
  {
   "cell_type": "code",
   "execution_count": null,
   "id": "22a71404",
   "metadata": {},
   "outputs": [],
   "source": [
    "# Correlation analysis\n",
    "fig, axes = plt.subplots(2, 2, figsize=(15, 12))\n",
    "\n",
    "# Duration vs Mean Prediction\n",
    "axes[0,0].scatter(video_df['duration'], video_df['mean_prediction'], alpha=0.6)\n",
    "axes[0,0].set_xlabel('Video Duration (seconds)')\n",
    "axes[0,0].set_ylabel('Mean Prediction Score')\n",
    "axes[0,0].set_title('Duration vs Mean Prediction')\n",
    "axes[0,0].grid(True, alpha=0.3)\n",
    "\n",
    "# Number of frames vs Max prediction\n",
    "axes[0,1].scatter(video_df['num_frames'], video_df['max_prediction'], alpha=0.6, color='orange')\n",
    "axes[0,1].set_xlabel('Number of Frames')\n",
    "axes[0,1].set_ylabel('Max Prediction Score')\n",
    "axes[0,1].set_title('Frames vs Max Prediction')\n",
    "axes[0,1].grid(True, alpha=0.3)\n",
    "\n",
    "# GT actions vs Active classes\n",
    "axes[1,0].scatter(video_df['num_gt_actions'], video_df['num_active_classes'], alpha=0.6, color='green')\n",
    "axes[1,0].set_xlabel('Number of GT Actions')\n",
    "axes[1,0].set_ylabel('Number of Active Classes (pred > 0.1)')\n",
    "axes[1,0].set_title('Ground Truth vs Predicted Active Classes')\n",
    "axes[1,0].grid(True, alpha=0.3)\n",
    "\n",
    "# FPS distribution\n",
    "axes[1,1].hist(video_df['fps'], bins=15, alpha=0.7, color='purple', edgecolor='black')\n",
    "axes[1,1].set_xlabel('FPS (Features Per Second)')\n",
    "axes[1,1].set_ylabel('Number of Videos')\n",
    "axes[1,1].set_title('Feature Extraction FPS Distribution')\n",
    "axes[1,1].grid(True, alpha=0.3)\n",
    "\n",
    "plt.tight_layout()\n",
    "plt.show()"
   ]
  },
  {
   "cell_type": "markdown",
   "id": "54056b5b",
   "metadata": {},
   "source": [
    "## 5. Temporal Analysis for Sample Videos"
   ]
  },
  {
   "cell_type": "code",
   "execution_count": null,
   "id": "c257d822",
   "metadata": {},
   "outputs": [],
   "source": [
    "# Select an interesting video for detailed analysis\n",
    "sample_video_id = list(results['results_per_video'].keys())[0]\n",
    "sample_result = results['results_per_video'][sample_video_id]\n",
    "\n",
    "predictions = sample_result['predictions']  # [T, 157]\n",
    "labels = sample_result['labels']  # [T, 157]\n",
    "duration = sample_result['duration']\n",
    "\n",
    "print(f\"Analyzing video: {sample_video_id}\")\n",
    "print(f\"Duration: {duration:.2f} seconds\")\n",
    "print(f\"Number of frames: {predictions.shape[0]}\")\n",
    "print(f\"FPS: {sample_result['fps']:.2f}\")\n",
    "\n",
    "# Find most active classes\n",
    "class_activity = np.sum(predictions, axis=0)\n",
    "top_active_classes = np.argsort(class_activity)[-5:]\n",
    "\n",
    "# Create time axis\n",
    "time_axis = np.linspace(0, duration, predictions.shape[0])\n",
    "\n",
    "# Plot temporal predictions\n",
    "plt.figure(figsize=(15, 8))\n",
    "\n",
    "for i, class_idx in enumerate(reversed(top_active_classes)):\n",
    "    plt.plot(time_axis, predictions[:, class_idx], \n",
    "            label=f'Class {class_idx}', linewidth=2, alpha=0.8)\n",
    "\n",
    "plt.title(f'Temporal Action Predictions - Video: {sample_video_id}')\n",
    "plt.xlabel('Time (seconds)')\n",
    "plt.ylabel('Prediction Score')\n",
    "plt.legend()\n",
    "plt.grid(True, alpha=0.3)\n",
    "plt.tight_layout()\n",
    "plt.show()\n",
    "\n",
    "# Show ground truth if available\n",
    "gt_actions = np.where(labels > 0.5)\n",
    "if len(gt_actions[0]) > 0:\n",
    "    plt.figure(figsize=(15, 6))\n",
    "    plt.scatter([time_axis[frame] for frame in gt_actions[0]], \n",
    "               gt_actions[1], \n",
    "               c='red', s=30, alpha=0.6, label='Ground Truth')\n",
    "    plt.title(f'Ground Truth Actions - Video: {sample_video_id}')\n",
    "    plt.xlabel('Time (seconds)')\n",
    "    plt.ylabel('Action Class')\n",
    "    plt.legend()\n",
    "    plt.grid(True, alpha=0.3)\n",
    "    plt.tight_layout()\n",
    "    plt.show()\n",
    "else:\n",
    "    print(\"No ground truth actions found for this video.\")"
   ]
  },
  {
   "cell_type": "markdown",
   "id": "c35cbd01",
   "metadata": {},
   "source": [
    "## 6. Model Performance Summary"
   ]
  },
  {
   "cell_type": "code",
   "execution_count": null,
   "id": "1076dfe6",
   "metadata": {},
   "outputs": [],
   "source": [
    "# Create performance summary\n",
    "summary = {\n",
    "    'Model Performance': {\n",
    "        'Mean Average Precision (mAP)': f\"{results['mean_ap']:.2f}%\",\n",
    "        'Number of Classes': len(results['ap_scores']),\n",
    "        'Number of Videos': len(results['video_ids']),\n",
    "        'Best Class AP': f\"{np.max(ap_scores):.2f}%\",\n",
    "        'Worst Class AP': f\"{np.min(ap_scores):.2f}%\",\n",
    "        'AP Standard Deviation': f\"{np.std(ap_scores):.2f}%\"\n",
    "    },\n",
    "    'Dataset Statistics': {\n",
    "        'Average Video Duration': f\"{video_df['duration'].mean():.2f} seconds\",\n",
    "        'Average Number of Frames': f\"{video_df['num_frames'].mean():.1f}\",\n",
    "        'Average FPS': f\"{video_df['fps'].mean():.2f}\",\n",
    "        'Total Frames Processed': int(video_df['num_frames'].sum())\n",
    "    }\n",
    "}\n",
    "\n",
    "# Display summary\n",
    "print(\"=\" * 50)\n",
    "print(\"PDAN MODEL EVALUATION SUMMARY\")\n",
    "print(\"=\" * 50)\n",
    "\n",
    "for category, metrics in summary.items():\n",
    "    print(f\"\\n{category}:\")\n",
    "    for metric, value in metrics.items():\n",
    "        print(f\"  {metric}: {value}\")\n",
    "\n",
    "print(\"\\n\" + \"=\" * 50)"
   ]
  }
 ],
 "metadata": {
  "kernelspec": {
   "display_name": "pdan",
   "language": "python",
   "name": "python3"
  },
  "language_info": {
   "codemirror_mode": {
    "name": "ipython",
    "version": 3
   },
   "file_extension": ".py",
   "mimetype": "text/x-python",
   "name": "python",
   "nbconvert_exporter": "python",
   "pygments_lexer": "ipython3",
   "version": "3.12.11"
  }
 },
 "nbformat": 4,
 "nbformat_minor": 5
}
